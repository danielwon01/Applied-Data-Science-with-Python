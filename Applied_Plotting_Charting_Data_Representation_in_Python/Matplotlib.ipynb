{
 "cells": [
  {
   "cell_type": "markdown",
   "id": "e3fd8e93",
   "metadata": {},
   "source": [
    "### Basic Plotting with matplotlib"
   ]
  },
  {
   "cell_type": "markdown",
   "id": "3bd6c1ab",
   "metadata": {},
   "source": [
    "* Matplotlib Architecture    \n",
    "Matplotlib's pyplot is an example of a procedural method for building visualizations while SVG, HTML are declarative methods of creating visualizations.  \n",
    "\n",
    "Backend - Deals with the rendering of plots to screen or files, In jupyter notebooks we use the inline backend  \n",
    "Artist Layer - Contains containers such as Figure , Subplot and Axes / contains primitives , such as a Line2D and Rectangle and colletions,such as a PathCollection  \n",
    "Scripting Layer - Simplifies acces to  the Artist and Backend layers"
   ]
  },
  {
   "cell_type": "code",
   "execution_count": 1,
   "id": "451503ee",
   "metadata": {},
   "outputs": [],
   "source": [
    "import matplotlib as mpl"
   ]
  },
  {
   "cell_type": "code",
   "execution_count": 2,
   "id": "31f2d3e7",
   "metadata": {},
   "outputs": [
    {
     "data": {
      "text/plain": [
       "'module://ipykernel.pylab.backend_inline'"
      ]
     },
     "execution_count": 2,
     "metadata": {},
     "output_type": "execute_result"
    }
   ],
   "source": [
    "mpl.get_backend()"
   ]
  },
  {
   "cell_type": "code",
   "execution_count": 3,
   "id": "b9cb20d1",
   "metadata": {},
   "outputs": [],
   "source": [
    "import matplotlib.pyplot as plt"
   ]
  },
  {
   "cell_type": "code",
   "execution_count": 4,
   "id": "190a9a07",
   "metadata": {},
   "outputs": [
    {
     "data": {
      "text/plain": [
       "[<matplotlib.lines.Line2D at 0x209dc308eb0>]"
      ]
     },
     "execution_count": 4,
     "metadata": {},
     "output_type": "execute_result"
    },
    {
     "data": {
      "image/png": "[encoded data removed]",
      "text/plain": [
       "<Figure size 432x288 with 1 Axes>"
      ]
     },
     "metadata": {
      "needs_background": "light"
     },
     "output_type": "display_data"
    }
   ],
   "source": [
    "plt.plot(3,2,'.')"
   ]
  },
  {
   "cell_type": "code",
   "execution_count": 5,
   "id": "dbf3966f",
   "metadata": {},
   "outputs": [],
   "source": [
    "from matplotlib.backends.backend_agg import FigureCanvasAgg\n",
    "from matplotlib.figure import Figure\n",
    "\n",
    "fig = Figure ()\n",
    "canvas = FigureCanvasAgg(fig)\n",
    "\n",
    "ax = fig.add_subplot(111) # 111은 하나의 plot을 의미 \n",
    "ax.plot(3,2,'.')\n",
    "canvas.print_png(\"test.png\")"
   ]
  },
  {
   "cell_type": "code",
   "execution_count": 6,
   "id": "5d378ce0",
   "metadata": {},
   "outputs": [
    {
     "data": {
      "text/html": [
       "<img src = 'test.png'  />\n"
      ],
      "text/plain": [
       "<IPython.core.display.HTML object>"
      ]
     },
     "metadata": {},
     "output_type": "display_data"
    }
   ],
   "source": [
    "%%html\n",
    "<img src = 'test.png'  />"
   ]
  },
  {
   "cell_type": "code",
   "execution_count": 7,
   "id": "872c1e66",
   "metadata": {},
   "outputs": [
    {
     "data": {
      "text/plain": [
       "(0.0, 6.0, 0.0, 10.0)"
      ]
     },
     "execution_count": 7,
     "metadata": {},
     "output_type": "execute_result"
    },
    {
     "data": {
      "image/png": "[encoded data removed]",
      "text/plain": [
       "<Figure size 432x288 with 1 Axes>"
      ]
     },
     "metadata": {
      "needs_background": "light"
     },
     "output_type": "display_data"
    }
   ],
   "source": [
    "plt.figure()\n",
    "plt.plot(3,2 ,\"o\")\n",
    "ax = plt.gca() # 현재 Axes 객체를 반환\n",
    "ax.axis([0,6,0,10]) # x축의 최소,최대값 ,y 축의 최소,최대값"
   ]
  },
  {
   "cell_type": "code",
   "execution_count": 8,
   "id": "147f410d",
   "metadata": {},
   "outputs": [
    {
     "data": {
      "text/plain": [
       "[<matplotlib.lines.Line2D at 0x209dcb561c0>]"
      ]
     },
     "execution_count": 8,
     "metadata": {},
     "output_type": "execute_result"
    },
    {
     "data": {
      "image/png": "[encoded data removed]",
      "text/plain": [
       "<Figure size 432x288 with 1 Axes>"
      ]
     },
     "metadata": {
      "needs_background": "light"
     },
     "output_type": "display_data"
    }
   ],
   "source": [
    "plt.figure()\n",
    "\n",
    "plt.plot(1.5, 1.5, 'o')\n",
    "plt.plot(2, 2, 'o')\n",
    "plt.plot(2.5, 2.5, 'o')"
   ]
  },
  {
   "cell_type": "code",
   "execution_count": 9,
   "id": "92f649c0",
   "metadata": {},
   "outputs": [
    {
     "data": {
      "text/plain": [
       "[<matplotlib.spines.Spine at 0x209dcb7ad90>,\n",
       " <matplotlib.spines.Spine at 0x209dcb7ae80>,\n",
       " <matplotlib.spines.Spine at 0x209dcb7af70>,\n",
       " <matplotlib.spines.Spine at 0x209dcb810a0>,\n",
       " <matplotlib.axis.XAxis at 0x209dcb7ad00>,\n",
       " <matplotlib.axis.YAxis at 0x209dcb81460>,\n",
       " Text(0.5, 1.0, ''),\n",
       " Text(0.0, 1.0, ''),\n",
       " Text(1.0, 1.0, ''),\n",
       " <matplotlib.patches.Rectangle at 0x209dcb88b80>]"
      ]
     },
     "execution_count": 9,
     "metadata": {},
     "output_type": "execute_result"
    },
    {
     "data": {
      "image/png": "[encoded data removed]",
      "text/plain": [
       "<Figure size 432x288 with 1 Axes>"
      ]
     },
     "metadata": {
      "needs_background": "light"
     },
     "output_type": "display_data"
    }
   ],
   "source": [
    "ax = plt.gca()\n",
    "# get all the child objects the axes contains\n",
    "ax.get_children()"
   ]
  },
  {
   "cell_type": "markdown",
   "id": "597d9cf8",
   "metadata": {},
   "source": [
    "### Scatterplots"
   ]
  },
  {
   "cell_type": "code",
   "execution_count": 11,
   "id": "04593425",
   "metadata": {},
   "outputs": [
    {
     "data": {
      "text/plain": [
       "<matplotlib.collections.PathCollection at 0x209dcc9db50>"
      ]
     },
     "execution_count": 11,
     "metadata": {},
     "output_type": "execute_result"
    },
    {
     "data": {
      "image/png": "[encoded data removed]",
      "text/plain": [
       "<Figure size 432x288 with 1 Axes>"
      ]
     },
     "metadata": {
      "needs_background": "light"
     },
     "output_type": "display_data"
    }
   ],
   "source": [
    "# scatter 항목들을 시리즈로 반환 X , 색의 목록을 가지고 주어진 포인트에 해당되게 함 \n",
    "import numpy as np\n",
    "x = np.arange(1,11,2)\n",
    "y= x\n",
    "plt.figure()\n",
    "plt.scatter(x,y)"
   ]
  },
  {
   "cell_type": "code",
   "execution_count": 13,
   "id": "b0bcb8ac",
   "metadata": {},
   "outputs": [
    {
     "data": {
      "text/plain": [
       "<matplotlib.collections.PathCollection at 0x209dcd84190>"
      ]
     },
     "execution_count": 13,
     "metadata": {},
     "output_type": "execute_result"
    },
    {
     "data": {
      "image/png": "[encoded data removed]",
      "text/plain": [
       "<Figure size 432x288 with 1 Axes>"
      ]
     },
     "metadata": {
      "needs_background": "light"
     },
     "output_type": "display_data"
    }
   ],
   "source": [
    "x = np.arange(1,9)\n",
    "y = x\n",
    "colors = [\"green\"]*(len(x) -1)\n",
    "colors.append('red')\n",
    "\n",
    "plt.figure()\n",
    "plt.scatter(x,y , color = colors)"
   ]
  },
  {
   "cell_type": "code",
   "execution_count": 14,
   "id": "fd384d31",
   "metadata": {},
   "outputs": [
    {
     "data": {
      "text/plain": [
       "[(1, 6), (2, 7), (3, 8), (4, 9), (5, 10)]"
      ]
     },
     "execution_count": 14,
     "metadata": {},
     "output_type": "execute_result"
    }
   ],
   "source": [
    "zip_g = zip([1,2,3,4,5], [6,7,8,9,10])\n",
    "list(zip_g)"
   ]
  },
  {
   "cell_type": "code",
   "execution_count": 16,
   "id": "376c360e",
   "metadata": {},
   "outputs": [
    {
     "name": "stdout",
     "output_type": "stream",
     "text": [
      "(1, 2, 3, 4, 5)\n",
      "(6, 7, 8, 9, 10)\n"
     ]
    }
   ],
   "source": [
    "# unpacking * \n",
    "zip_g = zip([1,2,3,4,5], [6,7,8,9,10])\n",
    "x, y = zip(*zip_g)\n",
    "print(x)\n",
    "print(y)"
   ]
  },
  {
   "cell_type": "code",
   "execution_count": 17,
   "id": "69c1403c",
   "metadata": {},
   "outputs": [
    {
     "data": {
      "text/plain": [
       "<matplotlib.collections.PathCollection at 0x209dcde9310>"
      ]
     },
     "execution_count": 17,
     "metadata": {},
     "output_type": "execute_result"
    },
    {
     "data": {
      "image/png": "[encoded data removed]",
      "text/plain": [
       "<Figure size 432x288 with 1 Axes>"
      ]
     },
     "metadata": {
      "needs_background": "light"
     },
     "output_type": "display_data"
    }
   ],
   "source": [
    "plt.figure()\n",
    "plt.scatter(x[:2], y[:2], s = 100 , c = 'red')\n",
    "plt.scatter(x[2:] ,y[2:], s =100 , c = 'black')"
   ]
  },
  {
   "cell_type": "markdown",
   "id": "91860114",
   "metadata": {},
   "source": [
    "### Line Plots"
   ]
  },
  {
   "cell_type": "code",
   "execution_count": 30,
   "id": "e3e5bd59",
   "metadata": {},
   "outputs": [
    {
     "data": {
      "text/plain": [
       "<matplotlib.collections.PolyCollection at 0x209de400130>"
      ]
     },
     "execution_count": 30,
     "metadata": {},
     "output_type": "execute_result"
    },
    {
     "data": {
      "image/png": "[encoded data removed]",
      "text/plain": [
       "<Figure size 432x288 with 1 Axes>"
      ]
     },
     "metadata": {
      "needs_background": "light"
     },
     "output_type": "display_data"
    }
   ],
   "source": [
    "# lineplot을 불러올때 y축의 값들만 불러온다. 어떤 x값의 시리즈로 된 인덱스를 사용하고 싶은지 인지하고 있다.\n",
    "l = np.arange(1,9)\n",
    "q = l**2\n",
    "\n",
    "plt.figure()\n",
    "plt.plot(l , '-o' , q , '-o')\n",
    "plt.plot([25,60,21], '--r')\n",
    "\n",
    "plt.xlabel(\"Some data\")\n",
    "plt.ylabel(\"Some other data\")\n",
    "plt.title(\"TItle\")\n",
    "plt.legend([\"Baseline\", \"Us\"], loc = 10)\n",
    "\n",
    "\n",
    "plt.gca().fill_between(range(len(l)) , l, q, facecolor = \"blue\" , alpha = 0.25) # 그래프간의 차이를 보여줄 수 있다."
   ]
  },
  {
   "cell_type": "code",
   "execution_count": 34,
   "id": "87276fb2",
   "metadata": {},
   "outputs": [
    {
     "data": {
      "image/png": "[encoded data removed]",
      "text/plain": [
       "<Figure size 432x288 with 1 Axes>"
      ]
     },
     "metadata": {
      "needs_background": "light"
     },
     "output_type": "display_data"
    }
   ],
   "source": [
    "plt.figure()\n",
    "date = np.arange('2021-01-01', '2021-01-09' ,dtype = 'datetime64[D]')\n",
    "\n",
    "plt.plot(date , l , '--r', date, q , '--o')\n",
    "plt.xticks(rotation = 45)\n",
    "plt.show()"
   ]
  },
  {
   "cell_type": "code",
   "execution_count": 39,
   "id": "61f6ba6f",
   "metadata": {},
   "outputs": [
    {
     "data": {
      "image/png": "[encoded data removed]",
      "text/plain": [
       "<Figure size 432x288 with 1 Axes>"
      ]
     },
     "metadata": {
      "needs_background": "light"
     },
     "output_type": "display_data"
    }
   ],
   "source": [
    "import pandas as pd\n",
    "plt.figure()\n",
    "date = np.arange('2021-01-01', '2021-01-09' ,dtype = 'datetime64[D]')\n",
    "date = list(map(pd.to_datetime , date))\n",
    "\n",
    "plt.plot(date , l , '--r', date, q , '--o')\n",
    "\n",
    "x = plt.gca().xaxis  # plt.gca 현재축 위치 \n",
    "for i in x.get_ticklabels() :\n",
    "    i.set_rotation(45)\n",
    "\n",
    "plt.subplots_adjust(bottom = 0.25)\n",
    "plt.show()"
   ]
  },
  {
   "cell_type": "markdown",
   "id": "0279ad34",
   "metadata": {},
   "source": [
    "### Bar Charts"
   ]
  },
  {
   "cell_type": "code",
   "execution_count": 40,
   "id": "d86d8e11",
   "metadata": {},
   "outputs": [
    {
     "data": {
      "text/plain": [
       "<BarContainer object of 8 artists>"
      ]
     },
     "execution_count": 40,
     "metadata": {},
     "output_type": "execute_result"
    },
    {
     "data": {
      "image/png": "[encoded data removed]",
      "text/plain": [
       "<Figure size 432x288 with 1 Axes>"
      ]
     },
     "metadata": {
      "needs_background": "light"
     },
     "output_type": "display_data"
    }
   ],
   "source": [
    "plt.figure()\n",
    "xvals = range(len(l))\n",
    "plt.bar(xvals , l , width = 0.3)"
   ]
  },
  {
   "cell_type": "code",
   "execution_count": 42,
   "id": "8c829cda",
   "metadata": {},
   "outputs": [
    {
     "data": {
      "image/png": "[encoded data removed]",
      "text/plain": [
       "<Figure size 432x288 with 1 Axes>"
      ]
     },
     "metadata": {
      "needs_background": "light"
     },
     "output_type": "display_data"
    }
   ],
   "source": [
    "plt.figure()\n",
    "xvals = range(len(l))\n",
    "plt.bar(xvals , l , width = 0.3)\n",
    "\n",
    "new_xvals = [] \n",
    "for i in xvals :\n",
    "    new_xvals.append(i+0.3)\n",
    "\n",
    "plt.bar(new_xvals , q , width = 0.3 , color = \"red\")\n",
    "\n",
    "plt.show()"
   ]
  },
  {
   "cell_type": "code",
   "execution_count": 45,
   "id": "2e81291e",
   "metadata": {},
   "outputs": [
    {
     "data": {
      "image/png": "[encoded data removed]",
      "text/plain": [
       "<Figure size 432x288 with 1 Axes>"
      ]
     },
     "metadata": {
      "needs_background": "light"
     },
     "output_type": "display_data"
    }
   ],
   "source": [
    "plt.figure()\n",
    "xvals = range(len(l))\n",
    "plt.bar(xvals , l , width = 0.3)\n",
    "\n",
    "new_xvals = [] \n",
    "for i in xvals :\n",
    "    new_xvals.append(i+0.3)\n",
    "\n",
    "plt.bar(new_xvals , q , width = 0.3 , color = \"red\")\n",
    "\n",
    "from random import randint\n",
    "l_err = [randint(0,15)for i in range(len(l))]\n",
    "plt.bar(xvals , l, width = 0.3 , yerr = l_err) # yerr 에러바 생성 \n",
    "\n",
    "plt.show()"
   ]
  },
  {
   "cell_type": "code",
   "execution_count": 47,
   "id": "96413638",
   "metadata": {},
   "outputs": [
    {
     "data": {
      "image/png": "[encoded data removed]",
      "text/plain": [
       "<Figure size 432x288 with 1 Axes>"
      ]
     },
     "metadata": {
      "needs_background": "light"
     },
     "output_type": "display_data"
    }
   ],
   "source": [
    "# stack bar\n",
    "xvals = range(len(l))\n",
    "plt.bar(xvals , l , width = 0.3 , color = 'b')\n",
    "plt.bar(xvals , q , width = 0.3 , color = 'r', bottom = l)\n",
    "plt.show()"
   ]
  },
  {
   "cell_type": "code",
   "execution_count": 50,
   "id": "9b93c542",
   "metadata": {},
   "outputs": [
    {
     "data": {
      "image/png": "[encoded data removed]",
      "text/plain": [
       "<Figure size 432x288 with 1 Axes>"
      ]
     },
     "metadata": {
      "needs_background": "light"
     },
     "output_type": "display_data"
    }
   ],
   "source": [
    "# barh \n",
    "xvals = range(len(l))\n",
    "plt.barh(xvals , l ,height =0.3, color = 'b')\n",
    "plt.barh(xvals , q ,height =0.3, color = 'r', left= l)\n",
    "plt.show()"
   ]
  }
 ],
 "metadata": {
  "kernelspec": {
   "display_name": "Python 3",
   "language": "python",
   "name": "python3"
  },
  "language_info": {
   "codemirror_mode": {
    "name": "ipython",
    "version": 3
   },
   "file_extension": ".py",
   "mimetype": "text/x-python",
   "name": "python",
   "nbconvert_exporter": "python",
   "pygments_lexer": "ipython3",
   "version": "3.8.8"
  }
 },
 "nbformat": 4,
 "nbformat_minor": 5
}
