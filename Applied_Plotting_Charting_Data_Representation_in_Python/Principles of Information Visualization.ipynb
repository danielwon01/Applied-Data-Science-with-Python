{
 "cells": [
  {
   "cell_type": "markdown",
   "id": "f563f8ba",
   "metadata": {},
   "source": [
    "#### Visualization Wheel Dimensions  \n",
    "> Abstraction - Figuration  \n",
    "  boxes and chars(abstraction) or real-world physical objects(figuration)  \n",
    "  \n",
    ">Functionality - Decoration  \n",
    " No embellishments(functionality) or artistic embellishments(decoration)  \n",
    "\n",
    ">Density - Lightness  \n",
    " must be studied in depth(density) or understandable at a glance(Lightness)  \n",
    "\n",
    ">Mutidimensional - Unidinensional  \n",
    " Diffent aspects of phenomena(neltidimensional) or single or few items of phenomna(unidimensional)  \n",
    "\n",
    ">Originality - Familiarity\n",
    " Novel methoods of visualization (originality) or established and well understood methods of visualization(Familiarity)\n",
    " \n",
    ">Novelty - Redundancy\n",
    " Explaining each item once(novelty) or encoding multiple explanations of the same phenomena(redundancy)"
   ]
  },
  {
   "cell_type": "markdown",
   "id": "17ce3a98",
   "metadata": {},
   "source": [
    "heuristics - 의사결정을 할 때 따를 수 있는 절차 혹은 규칙, 최선 혹은 완벽하진 않더라고 실용적이여야 한다. 추론되어 나오는 근거를 찾을때까지 지속해서 진행된다.   \n",
    "\n",
    "The data-ink ratio is the proportion of Ink that is used to present actual data compared to the total amount of ink (or pixels) used in the entire display. (Ratio of Data-Ink to non-Data-Ink). Good graphics should include only data-Ink. Non-Data-Ink is to be deleted everywhere where possible  \n",
    "\n",
    "Chartjunk refers to all visual elements in charts and graphs that are not necessary to comprehend the information represented on the graph, or that distract the viewer from this information.   \n",
    "\n",
    "The “Lie Factor” is a value to describe the relation between the size of effect shown in a graphic and the size of effect shown in the data.  The representation of numbers, as physically measured on the surface of the graphic itself, should be directly proportional to the quantities represented.  \n",
    "\n",
    "\n",
    "\n"
   ]
  },
  {
   "cell_type": "markdown",
   "id": "7332bb3f",
   "metadata": {},
   "source": [
    "#### Five Qualities of Great Visualizations\n",
    "* Truthful - Be aware of actions when cleaning , summarizing and manipulating data and ensure you aren't   \n",
    "\n",
    "\n",
    "* Functional -Consider whether your visualization is functional or not. The data-ink ratio can help increase the functionality of a visualization.    \n",
    "\n",
    "\n",
    "* Beautiful - It might sound like a weird quality, but beauty is important to data visualization. To achieve beauty, you need to know your audience.“Beauty is in the eye of the beholder” is a common but accurate expression.    \n",
    "\n",
    "\n",
    "* Insightful- A good visualization doesn’t merely replicate data from tables or files. It displays relevant data in a visual format that reveals trends or relationships. When insights are successfully visualized, the viewer gets an “aha!” moment.  \n",
    "\n",
    "\n",
    "* Enlightening- Although it sounds similar, enlightening is a different concept from insightful. Cairo says this quality is composed of the previous four: truthful, functional, beautiful, and insightful. Enlightenment means that every important component has been successfully combined to produce a new and valuable revelation."
   ]
  }
 ],
 "metadata": {
  "kernelspec": {
   "display_name": "Python 3",
   "language": "python",
   "name": "python3"
  },
  "language_info": {
   "codemirror_mode": {
    "name": "ipython",
    "version": 3
   },
   "file_extension": ".py",
   "mimetype": "text/x-python",
   "name": "python",
   "nbconvert_exporter": "python",
   "pygments_lexer": "ipython3",
   "version": "3.8.8"
  }
 },
 "nbformat": 4,
 "nbformat_minor": 5
}
