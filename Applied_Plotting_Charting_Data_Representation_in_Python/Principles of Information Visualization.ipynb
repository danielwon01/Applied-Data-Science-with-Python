{
 "cells": [
  {
   "cell_type": "markdown",
   "id": "4d99becb",
   "metadata": {},
   "source": [
    "Visualization Wheel Dimensions  \n",
    "> Abstraction - Figuration  \n",
    "  boxes and chars(abstraction) or real-world physical objects(figuration)  \n",
    "  \n",
    ">Functionality - Decoration  \n",
    " No embellishments(functionality) or artistic embellishments(decoration)  \n",
    "\n",
    ">Density - Lightness  \n",
    " must be studied in depth(density) or understandable at a glance(Lightness)  \n",
    "\n",
    ">Mutidimensional - Unidinensional  \n",
    " Diffent aspects of phenomena(neltidimensional) or single or few items of phenomna(unidimensional)  \n",
    "\n",
    ">Originality - Familiarity\n",
    " Novel methoods of visualization (originality) or established and well understood methods of visualization(Familiarity)\n",
    " \n",
    ">Novelty - Redundancy\n",
    " Explaining each item once(novelty) or encoding multiple explanations of the same phenomena(redundancy)"
   ]
  },
  {
   "cell_type": "markdown",
   "id": "d2d4fe26",
   "metadata": {},
   "source": [
    "heuristics - 의사결정을 할 때 따를 수 있는 절차 혹은 규칙, 최선 혹은 완벽하진 않더라고 실용적이여야 한다. 추론되어 나오는 근거를 찾을때까지 지속해서 진행된다.   \n",
    "\n",
    "도표 발견법은 데이터-잉크 비율 \n",
    "\n"
   ]
  },
  {
   "cell_type": "code",
   "execution_count": null,
   "id": "41105d4b",
   "metadata": {},
   "outputs": [],
   "source": []
  },
  {
   "cell_type": "code",
   "execution_count": null,
   "id": "dd8765c9",
   "metadata": {},
   "outputs": [],
   "source": []
  }
 ],
 "metadata": {
  "kernelspec": {
   "display_name": "Python 3",
   "language": "python",
   "name": "python3"
  },
  "language_info": {
   "codemirror_mode": {
    "name": "ipython",
    "version": 3
   },
   "file_extension": ".py",
   "mimetype": "text/x-python",
   "name": "python",
   "nbconvert_exporter": "python",
   "pygments_lexer": "ipython3",
   "version": "3.8.8"
  }
 },
 "nbformat": 4,
 "nbformat_minor": 5
}
