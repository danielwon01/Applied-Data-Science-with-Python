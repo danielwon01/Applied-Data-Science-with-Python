{
 "cells": [
  {
   "cell_type": "markdown",
   "id": "451409ef",
   "metadata": {},
   "source": [
    "### Manipulating Text with Regular Expression(정규표현식)"
   ]
  },
  {
   "cell_type": "markdown",
   "id": "11fff5be",
   "metadata": {},
   "source": [
    "이 강의에서는 정규식을 이용한 문자열 내 패턴 매칭에 대해 알아보겠습니다. 정규식은 축약된 형식 언어로 작성된다. 일반적으로 정규식은 정규식 프로세서에 소스 데이터와 함께 제공하는 패턴이라고 생각할 수 있습니다. 그런 다음 프로세서는 해당 패턴을 사용하여 소스 데이터를 파싱하고 추가 조작을 위해 텍스트 chunks를 데이터 과학자 또는 프로그래머에게 반환합니다. 패턴이 일부 원본 데이터 내에 존재하는지 여부 확인, 일부 원본 데이터에서 복잡한 패턴의 모든 인스턴스를 가져오거나 일반적으로 문자열 분할을 통해 패턴을 사용하여 원본 데이터를 정리하는 세 가지 주요 이유가 있습니다. 정규식은 사소하지 않지만 데이터 과학 응용 프로그램의 데이터 정리를 위한 기본 기술이며 정규식에 대한 확실한 이해는 추가 데이터 과학 응용 프로그램을 위해 텍스트 데이터를 빠르고 효율적으로 조작하는 데 도움이 됩니다."
   ]
  },
  {
   "cell_type": "code",
   "execution_count": 28,
   "id": "a303f87d",
   "metadata": {},
   "outputs": [],
   "source": [
    "# Regular Expression libraries\n",
    "import re"
   ]
  },
  {
   "cell_type": "markdown",
   "id": "833fe728",
   "metadata": {},
   "source": [
    "re.match() 와 re.search()의 차이  \n",
    "search()가 정규 표현식 전체에 대해서 문자열이 매치하는지를 본다면, match()는 문자열의 첫 부분부터 정규 표현식과 매치하는지를 확인합니 다. 문자열 중간에 찾을 패턴이 있다고 하더라도, match 함수는 문자열의 시작에서 패턴이 일치하지 않으면 찾지 않습니다.  "
   ]
  },
  {
   "cell_type": "code",
   "execution_count": 2,
   "id": "ead67efc",
   "metadata": {},
   "outputs": [
    {
     "name": "stdout",
     "output_type": "stream",
     "text": [
      "True !\n"
     ]
    }
   ],
   "source": [
    "#re.search() 문자열 전체에 대해서 정규표현식과 매치되는지를 검색합니다.\n",
    "t = \"today is a good day\"\n",
    "if re.search(\"good\", t) :\n",
    "    print(\"True !\")\n",
    "else :\n",
    "    print(\"False\")"
   ]
  },
  {
   "cell_type": "markdown",
   "id": "c52e46b4",
   "metadata": {},
   "source": [
    "re.split()\n",
    " 함수는 입력된 정규 표현식을 기준으로 문자열들을 분리하여 리스트로 리턴,토큰화에 유용하게 쓰일 수 있기 때문입니다.    \n",
    "코퍼스(corpus,크고 구조화 된 텍스트 집합으로 구성된 언어 리소스)에서 토큰(token)이라 불리는 단위로 나누는 작업을 토큰화(tokenization)라고 부릅니다. 토큰의 단위가 상황에 따라 다르지만, 보통 의미있는 단위로 토큰을 정의"
   ]
  },
  {
   "cell_type": "code",
   "execution_count": 5,
   "id": "c8b8ff3f",
   "metadata": {},
   "outputs": [
    {
     "data": {
      "text/plain": [
       "['오미크론·방역',\n",
       " '강화에',\n",
       " '연말',\n",
       " '경기',\n",
       " '얼어붙나',\n",
       " ',',\n",
       " '오미크론',\n",
       " '전세계',\n",
       " \"'지역\",\n",
       " \"감염'\",\n",
       " '단계로',\n",
       " '이미',\n",
       " '진입…각국',\n",
       " \"'비상\"]"
      ]
     },
     "execution_count": 5,
     "metadata": {},
     "output_type": "execute_result"
    }
   ],
   "source": [
    "# re.split()\n",
    "\n",
    "t = \"오미크론·방역 강화에 연말 경기 얼어붙나 , 오미크론 전세계 '지역 감염' 단계로 이미 진입…각국 '비상\"\n",
    "re.split(\" \", t)"
   ]
  },
  {
   "cell_type": "markdown",
   "id": "e3ddbcab",
   "metadata": {},
   "source": [
    "re.findall()  \n",
    "findall() 함수는 정규 표현식과 매치되는 모든 문자열들을 리스트로 리턴합니다. 단, 매치되는 문자열이 없다면 빈 리스트를 리턴합니다."
   ]
  },
  {
   "cell_type": "code",
   "execution_count": 7,
   "id": "4078b73d",
   "metadata": {},
   "outputs": [
    {
     "data": {
      "text/plain": [
       "['오미크론', '오미크론']"
      ]
     },
     "execution_count": 7,
     "metadata": {},
     "output_type": "execute_result"
    }
   ],
   "source": [
    "#re.findall()\n",
    "re.findall(\"오미크론\", t)"
   ]
  },
  {
   "cell_type": "markdown",
   "id": "495ec53e",
   "metadata": {},
   "source": [
    "특수 문자 설명  \n",
    ".\t한 개의 임의의 문자를 나타냅니다. (줄바꿈 문자인 \\n는 제외)  \n",
    "?\t앞의 문자가 존재할 수도 있고, 존재하지 않을 수도 있습니다. (문자가 0개 또는 1개)  \n",
    "'*'\t앞의 문자가 무한개로 존재할 수도 있고, 존재하지 않을 수도 있습니다. (문자가 0개 이상)  \n",
    "'+'\t앞의 문자가 최소 한 개 이상 존재합니다. (문자가 1개 이상)  \n",
    "^\t뒤의 문자로 문자열이 시작됩니다.\n",
    "$\t앞의 문자로 문자열이 끝납니다.  \n",
    "{숫자}\t숫자만큼 반복합니다.  \n",
    "{숫자1, 숫자2}\t숫자1 이상 숫자2 이하만큼 반복합니다. ?, *, +를 이것으로 대체할 수 있습니다.  \n",
    "{숫자,}\t숫자 이상만큼 반복합니다.  \n",
    "[ ]\t대괄호 안의 문자들 중 한 개의 문자와 매치합니다. [amk]라고 한다면 a 또는 m 또는 k 중 하나라도 존재하면 매치를 의미합니다. [a-z]와 같이 범위를 지정할 수도 있습니다. [a-zA-Z]는 알파벳 전체를 의미하는 범위이며, 문자열에 알파벳이 존재하면 매치를 의미합니다.  \n",
    "[^문자]\t해당 문자를 제외한 문자를 매치합니다.  \n",
    "l\tAlB와 같이 쓰이며 A 또는 B의 의미를 가집니다.  "
   ]
  },
  {
   "cell_type": "markdown",
   "id": "aad4cd37",
   "metadata": {},
   "source": [
    "[xy]  \n",
    "문자 선택을 표현하며 x 와 y 중에 하나를 의미한다. \n",
    " [^xy]  \n",
    "not 을 표현하며  x 및 y 를 제외한 문자를 의미한다.  \n",
    " [x-z]  \n",
    "range를 표현하며 x ~ z 사이의 문자를 의미한다.   \n",
    " \\^  \n",
    "escape 를 표현하며 ^ 를 문자로 사용함을 의미한다.  \n",
    " \\b    \n",
    "word boundary를 표현하며 문자와 공백사이의 문자를 의미한다.  \n",
    " \\B  \n",
    "non word boundary를 표현하며 문자와 공백사이가 아닌 문자를 의미한다.  \n",
    " \\d  \n",
    "digit 를 표현하며 숫자를 의미한다.   \n",
    " \\D  \n",
    "non digit 를 표현하며 숫자가 아닌 것을 의미한다.   \n",
    " \\s  \n",
    "space 를 표현하며 공백 문자를 의미한다.   \n",
    " \\S  \n",
    "non space를 표현하며 공백 문자가 아닌 것을 의미한다.  \n",
    " \\t  \n",
    "tab 을 표현하며 탭 문자를 의미한다.  \n",
    " \\v  \n",
    "vertical tab을 표현하며 수직 탭(?) 문자를 의미한다.  \n",
    " \\w  \n",
    "word 를 표현하며 알파벳 + 숫자 + _ 중의 한 문자임을 의미한다.   \n",
    " \\W  \n",
    "non word를 표현하며 알파벳 + 숫자 + _ 가 아닌 문자를 의미한다.   \n",
    "\n",
    "출처: https://hamait.tistory.com/342 [HAMA 블로그]"
   ]
  },
  {
   "cell_type": "markdown",
   "id": "a51c0fc5",
   "metadata": {},
   "source": [
    "문자 규칙 설명  \n",
    "\\ 역 슬래쉬 문자 자체를 의미합니다  \n",
    "\\d 모든 숫자를 의미합니다. [0-9]와 의미가 동일합니다.  \n",
    "\\D숫자를 제외한 모든 문자를 의미합니다. [^0-9]와 의미가 동일합니다.  \n",
    "\\s공백을 의미합니다. [ \\t\\n\\r\\f\\v]와 의미가 동일합니다.  \n",
    "\\S공백을 제외한 문자를 의미합니다. [^ \\t\\n\\r\\f\\v]와 의미가 동일합니다.  \n",
    "\\w문자 또는 숫자를 의미합니다. [a-zA-Z0-9]와 의미가 동일합니다.  \n",
    "\\W문자 또는 숫자가 아닌 문자를 의미합니다. [^a-zA-Z0-9]와 의미가 동일합니다.  "
   ]
  },
  {
   "cell_type": "markdown",
   "id": "d0e088c6",
   "metadata": {},
   "source": [
    "[A-Z]: 영어 대문자  \n",
    "[a-z]: 영어 소문자  \n",
    "[0-9]: 숫자  \n",
    "[^A-Z]: 영어 대문자가 아닌 것들  \n",
    "^[A-Z] -> 영어 대문자가 문자열 맨 앞에 나올 경우  "
   ]
  },
  {
   "cell_type": "code",
   "execution_count": 10,
   "id": "6f915790",
   "metadata": {},
   "outputs": [],
   "source": [
    "t = \"오미크론·방역 강화에 연말 경기 얼어붙나 , 오미크론 전세계 '지역 감염' 단계로 이미 진입…각국 '비상\"\n",
    "re.search(\"^오미트론\", t)"
   ]
  },
  {
   "cell_type": "markdown",
   "id": "c83ae2c2",
   "metadata": {},
   "source": [
    "### Patterns and Character Classes"
   ]
  },
  {
   "cell_type": "code",
   "execution_count": 11,
   "id": "57ca6dba",
   "metadata": {},
   "outputs": [
    {
     "data": {
      "text/plain": [
       "['B', 'B', 'B']"
      ]
     },
     "execution_count": 11,
     "metadata": {},
     "output_type": "execute_result"
    }
   ],
   "source": [
    "grades=\"ACAAAABCBCBAA\"\n",
    "# If we want to answer the question \"How many B's were in the grade list?\" we would just use B\n",
    "re.findall(\"B\",grades)"
   ]
  },
  {
   "cell_type": "code",
   "execution_count": 13,
   "id": "ad857ee6",
   "metadata": {},
   "outputs": [
    {
     "data": {
      "text/plain": [
       "['A', 'A', 'A', 'A', 'A', 'B', 'B', 'B', 'A', 'A']"
      ]
     },
     "execution_count": 13,
     "metadata": {},
     "output_type": "execute_result"
    }
   ],
   "source": [
    "re.findall(\"[AB]\", grades)"
   ]
  },
  {
   "cell_type": "code",
   "execution_count": 15,
   "id": "a1944173",
   "metadata": {},
   "outputs": [
    {
     "data": {
      "text/plain": [
       "['AC', 'AB']"
      ]
     },
     "execution_count": 15,
     "metadata": {},
     "output_type": "execute_result"
    }
   ],
   "source": [
    "# to parse out all instances where this student receive an A followed by a B or a C\n",
    "re.findall(\"[A][B-C]\", grades)"
   ]
  },
  {
   "cell_type": "code",
   "execution_count": 16,
   "id": "490007c5",
   "metadata": {},
   "outputs": [
    {
     "data": {
      "text/plain": [
       "['AC', 'AB']"
      ]
     },
     "execution_count": 16,
     "metadata": {},
     "output_type": "execute_result"
    }
   ],
   "source": [
    "re.findall(\"AB|AC\",grades)"
   ]
  },
  {
   "cell_type": "code",
   "execution_count": 19,
   "id": "7067882e",
   "metadata": {},
   "outputs": [
    {
     "data": {
      "text/plain": [
       "['C', 'B', 'C', 'B', 'C', 'B']"
      ]
     },
     "execution_count": 19,
     "metadata": {},
     "output_type": "execute_result"
    }
   ],
   "source": [
    "# A가 아닌 문자 반환 \n",
    "re.findall(\"[^A]\",grades)"
   ]
  },
  {
   "cell_type": "code",
   "execution_count": 20,
   "id": "c01130ec",
   "metadata": {},
   "outputs": [
    {
     "data": {
      "text/plain": [
       "[]"
      ]
     },
     "execution_count": 20,
     "metadata": {},
     "output_type": "execute_result"
    }
   ],
   "source": [
    "# 빈리스트가 반환 , 정규표현식에서 A로 시작하는 어떤한 값을 반환하라고 선언하지만 grades는 A로 시작하는 문자열이므로 빈 리스트가 반환\n",
    "re.findall(\"^[^A]\",grades)"
   ]
  },
  {
   "cell_type": "markdown",
   "id": "dd35d431",
   "metadata": {},
   "source": [
    "### Quantifiers\n",
    "Quantifiers는 수량을 표시하고 , 정규 표현식의 수량자는 문자, 문자 집합, 그리고 클래스 메타 문자의 인스턴스가 몇 개 있어야 일치되는지를 지정  \n",
    "{n} 정확히 n개만을 찾습니다.    \n",
    "{n,}n개 이상을 찾습니다.   \n",
    "{n,m} 최소n개,최대m개의 경우를 찾습니다."
   ]
  },
  {
   "cell_type": "markdown",
   "id": "64abd646",
   "metadata": {},
   "source": [
    "Quantifiers are the number of times you want a pattern to be matched in order to match. The most basic  \n",
    "quantifier is expressed as e{m,n}, where e is the expression or character we are matching, m is the minimum  \n",
    " number of times you want it to matched, and n is the maximum number of times the item could be matched."
   ]
  },
  {
   "cell_type": "code",
   "execution_count": 22,
   "id": "c4a63d64",
   "metadata": {},
   "outputs": [
    {
     "data": {
      "text/plain": [
       "'ACAAAABCBCBAA'"
      ]
     },
     "execution_count": 22,
     "metadata": {},
     "output_type": "execute_result"
    }
   ],
   "source": [
    "grades"
   ]
  },
  {
   "cell_type": "code",
   "execution_count": 21,
   "id": "4b12438e",
   "metadata": {},
   "outputs": [
    {
     "data": {
      "text/plain": [
       "['AAAA', 'AA']"
      ]
     },
     "execution_count": 21,
     "metadata": {},
     "output_type": "execute_result"
    }
   ],
   "source": [
    "re.findall(\"A{2,10}\",grades) # we'll use 2 as our min, but ten as our max"
   ]
  },
  {
   "cell_type": "code",
   "execution_count": 56,
   "id": "6a8a1c42",
   "metadata": {},
   "outputs": [
    {
     "data": {
      "text/plain": [
       "5"
      ]
     },
     "execution_count": 56,
     "metadata": {},
     "output_type": "execute_result"
    }
   ],
   "source": [
    "s = 'ACAABAACAAAB'\n",
    "result = re.findall('A{1,2}', s)\n",
    "L = len(result)\n",
    "L"
   ]
  },
  {
   "cell_type": "code",
   "execution_count": 23,
   "id": "cc43863a",
   "metadata": {},
   "outputs": [
    {
     "data": {
      "text/plain": [
       "['AA', 'AA', 'AA']"
      ]
     },
     "execution_count": 23,
     "metadata": {},
     "output_type": "execute_result"
    }
   ],
   "source": [
    "#there were two streaks, one where the student had four A's, and one where they had only two A's\n",
    "# We might try and do this using single values and just repeating the pattern\n",
    "re.findall(\"A{1,1}A{1,1}\",grades)"
   ]
  },
  {
   "cell_type": "code",
   "execution_count": 24,
   "id": "649565d5",
   "metadata": {},
   "outputs": [
    {
     "data": {
      "text/plain": [
       "[]"
      ]
     },
     "execution_count": 24,
     "metadata": {},
     "output_type": "execute_result"
    }
   ],
   "source": [
    "# It's important to note that the regex quantifier syntax does not allow you to deviate from the {m,n}\n",
    "# pattern. In particular, if you have an extra space in between the braces you'll get an empty result\n",
    "re.findall(\"A{2, 2}\",grades)"
   ]
  },
  {
   "cell_type": "code",
   "execution_count": 25,
   "id": "70501dd1",
   "metadata": {},
   "outputs": [
    {
     "data": {
      "text/plain": [
       "['AAAABC']"
      ]
     },
     "execution_count": 25,
     "metadata": {},
     "output_type": "execute_result"
    }
   ],
   "source": [
    "#decreasing trend in a student's grades\n",
    "re.findall(\"A{1,10}B{1,10}C{1,10}\" ,grades)"
   ]
  },
  {
   "cell_type": "markdown",
   "id": "c832e173",
   "metadata": {},
   "source": [
    "### + , * , ? 수량자표현 \n",
    "\n",
    "메타 문자 의미  \n",
    "'*' 0회 이상 반복  \n",
    "*? 0회이상 반복 (최소 매칭 non-greedy)  \n",
    "'+' 1회 이상 반복  \n",
    "+? 1회 이상 반복 (최소 매칭 non-greedy)  \n",
    "? 0회 or 1회  \n",
    "{m} m회 반복  \n",
    "{m, n} m회에서 n회까지 반복\n",
    "| - '또는'을 의미   \n",
    ". - 줄바꿈(\\n)을 제외한 모든 문자와 매칭  "
   ]
  },
  {
   "cell_type": "code",
   "execution_count": 26,
   "id": "bd5af99f",
   "metadata": {},
   "outputs": [],
   "source": [
    "import os\n",
    "os.chdir('C://Users//my/Desktop//')"
   ]
  },
  {
   "cell_type": "code",
   "execution_count": 27,
   "id": "63b869dd",
   "metadata": {},
   "outputs": [
    {
     "data": {
      "text/plain": [
       "'Overview[edit]\\nFERPA gives parents access to their child\\'s education records, an opportunity to seek to have the records amended, and some control over the disclosure of information from the records. With several exceptions, schools must have a student\\'s consent prior to the disclosure of education records after that student is 18 years old. The law applies only to educational agencies and institutions that receive funds under a program administered by the U.S. Department of Education.\\n\\nOther regulations under this act, effective starting January 3, 2012, allow for greater disclosures of personal and directory student identifying information and regulate student IDs and e-mail addresses.[2] For example, schools may provide external companies with a student\\'s personally identifiable information without the student\\'s consent.[2]\\n\\nExamples of situations affected by FERPA include school employees divulging information to anyone other than the student about the student\\'s grades or behavior, and school work posted on a bulletin board with a grade. Generally, schools must have written permission from the parent or eligible student in order to release any information from a student\\'s education record.\\n\\nThis privacy policy also governs how state agencies transmit testing data to federal agencies, such as the Education Data Exchange Network.\\n\\nThis U.S. federal law also gave students 18 years of age or older, or students of any age if enrolled in any post-secondary educational institution, the right of privacy regarding grades, enrollment, and even billing information unless the school has specific permission from the student to share that specific type of information.\\n\\nFERPA also permits a school to disclose personally identifiable information from education records of an \"eligible student\" (a student age 18 or older or enrolled in a postsecondary institution at any age) to his or her parents if the student is a \"dependent student\" as that term is defined in Section 152 of the Internal Revenue Code. Generally, if either parent has claimed the student as a dependent on the parent\\'s most recent income tax statement, the school may non-consensually disclose the student\\'s education records to both parents.[3]\\n\\nThe law allowed students who apply to an educational institution such as graduate school permission to view recommendations submitted by others as part of the application. However, on standard application forms, students are given the option to waive this right.\\n\\nFERPA specifically excludes employees of an educational institution if they are not students.\\n\\nThe act is also referred to as the Buckley Amendment, for one of its proponents, Senator James L. Buckley of New York.\\n\\nAccess to public records[edit]\\nThe citing of FERPA to conceal public records that are not \"educational\" in nature has been widely criticized, including by the act\\'s primary Senate sponsor.[4] For example, in the Owasso Independent School District v. Falvo case, an important part of the debate was determining the relationship between peer-grading and \"education records\" as defined in FERPA. In the Court of Appeals, it was ruled that students placing grades on the work of other students made such work into an \"education record.\" Thus, peer-grading was determined as a violation of FERPA privacy policies because students had access to other students\\' academic performance without full consent.[5] However, when the case went to the Supreme Court, it was officially ruled that peer-grading was not a violation of FERPA. This is because a grade written on a student\\'s work does not become an \"education record\" until the teacher writes the final grade into a grade book.[6]\\n\\nStudent medical records[edit]\\nLegal experts have debated the issue of whether student medical records (for example records of therapy sessions with a therapist at an on-campus counseling center) might be released to the school administration under certain triggering events, such as when a student sued his college or university.[7][8]\\n\\nUsually, student medical treatment records will remain under the protection of FERPA, not the Health Insurance Portability and Accountability Act (HIPAA). This is due to the \"FERPA Exception\" written within HIPAA.[9]'"
      ]
     },
     "execution_count": 27,
     "metadata": {},
     "output_type": "execute_result"
    }
   ],
   "source": [
    "with open(\"corsera_dataset/ferpa.txt\", \"r\") as file  :\n",
    "    wiki = file.read()\n",
    "\n",
    "wiki"
   ]
  },
  {
   "cell_type": "code",
   "execution_count": 33,
   "id": "70a49781",
   "metadata": {},
   "outputs": [
    {
     "data": {
      "text/plain": [
       "['Overview[edit]', 'records[edit]', 'records[edit]']"
      ]
     },
     "execution_count": 33,
     "metadata": {},
     "output_type": "execute_result"
    }
   ],
   "source": [
    "# Scanning through this document one of the things we notice is that the headers all have the words [edit]\n",
    "# behind them, followed by a newline character. So if we wanted to get a list of all of the headers in this\n",
    "# article we could do so using re.findall\n",
    "\n",
    "re.findall(\"[a-zA-Z]{1,100}\\[edit\\]\",wiki)"
   ]
  },
  {
   "cell_type": "code",
   "execution_count": 34,
   "id": "2153aa38",
   "metadata": {},
   "outputs": [
    {
     "data": {
      "text/plain": [
       "['Overview[edit]', 'records[edit]', 'records[edit]']"
      ]
     },
     "execution_count": 34,
     "metadata": {},
     "output_type": "execute_result"
    }
   ],
   "source": [
    "#use \\w to match any letter, including digits and numbers.\n",
    "re.findall(\"[\\w]{1,100}\\[edit\\]\",wiki)"
   ]
  },
  {
   "cell_type": "code",
   "execution_count": 35,
   "id": "da2ae020",
   "metadata": {},
   "outputs": [
    {
     "data": {
      "text/plain": [
       "['Overview[edit]', 'records[edit]', 'records[edit]']"
      ]
     },
     "execution_count": 35,
     "metadata": {},
     "output_type": "execute_result"
    }
   ],
   "source": [
    "# This is something new. \\w is a metacharacter, and indicates a special pattern of any letter or digit. There\n",
    "# are actually a number of different metacharacters listed in the documentation. For instance, \\s matches any\n",
    "# whitespace character.\n",
    "\n",
    "# Next, there are three other quantifiers we can use which shorten up the curly brace syntax. We can use an\n",
    "# asterix * to match 0 or more times, so let's try that.\n",
    "re.findall(\"[\\w]*\\[edit\\]\",wiki)"
   ]
  },
  {
   "cell_type": "code",
   "execution_count": 36,
   "id": "d5737ed9",
   "metadata": {},
   "outputs": [
    {
     "data": {
      "text/plain": [
       "['Overview[edit]',\n",
       " 'Access to public records[edit]',\n",
       " 'Student medical records[edit]']"
      ]
     },
     "execution_count": 36,
     "metadata": {},
     "output_type": "execute_result"
    }
   ],
   "source": [
    "# Now that we have shortened the regex, let's improve it a little bit. We can add in a spaces using the space\n",
    "# character\n",
    "re.findall(\"[\\w ]*\\[edit\\]\",wiki)"
   ]
  },
  {
   "cell_type": "code",
   "execution_count": 39,
   "id": "2394508b",
   "metadata": {},
   "outputs": [
    {
     "name": "stdout",
     "output_type": "stream",
     "text": [
      "Overview\n",
      "records\n",
      "records\n"
     ]
    }
   ],
   "source": [
    "for title in re.findall(\"[\\w]*\\[edit\\]\",wiki) :\n",
    "    print(re.split(\"[\\[]\",title)[0])"
   ]
  },
  {
   "cell_type": "markdown",
   "id": "aa77129e",
   "metadata": {},
   "source": [
    "### Groups\n",
    "정규표현식 그룹은 해당 그룹과 일치하는 문자열을 얻어올 때 사용합니다.  \n",
    "패턴 안에서 정규표현식을 ( )(괄호)로 묶으면 그룹이 됩니다.\n",
    "\n",
    "(정규표현식) (정규표현식)"
   ]
  },
  {
   "cell_type": "code",
   "execution_count": 40,
   "id": "9060963d",
   "metadata": {},
   "outputs": [
    {
     "data": {
      "text/plain": [
       "['Overview[edit]',\n",
       " 'Access to public records[edit]',\n",
       " 'Student medical records[edit]']"
      ]
     },
     "execution_count": 40,
     "metadata": {},
     "output_type": "execute_result"
    }
   ],
   "source": [
    "re.findall(\"[\\w ]*\\[edit\\]\",wiki)"
   ]
  },
  {
   "cell_type": "code",
   "execution_count": 42,
   "id": "e7e722dc",
   "metadata": {},
   "outputs": [
    {
     "name": "stdout",
     "output_type": "stream",
     "text": [
      "('Overview', '[edit]')\n",
      "('records', '[edit]')\n",
      "('records', '[edit]')\n"
     ]
    }
   ],
   "source": [
    "# a list of Match objects use the function finditer()\n",
    "for i in re.finditer(\"([\\w]*)(\\[edit\\])\",wiki) :\n",
    "    print(i.groups())\n",
    "# returns a tuple of the group"
   ]
  },
  {
   "cell_type": "code",
   "execution_count": 45,
   "id": "4ce2d86c",
   "metadata": {},
   "outputs": [
    {
     "name": "stdout",
     "output_type": "stream",
     "text": [
      "Overview\n",
      "records\n",
      "records\n"
     ]
    }
   ],
   "source": [
    "for i in re.finditer(\"([\\w]*)(\\[edit\\])\",wiki) :\n",
    "    print(i.group(1))"
   ]
  },
  {
   "cell_type": "code",
   "execution_count": 47,
   "id": "37c51f5f",
   "metadata": {},
   "outputs": [
    {
     "name": "stdout",
     "output_type": "stream",
     "text": [
      "Overview\n",
      "Access to public records\n",
      "Student medical records\n"
     ]
    }
   ],
   "source": [
    "#labeling or naming groups \n",
    "#(?P<name>), where the parethesis starts the group, the ?P indicates that this is an extension to basic regexes, and <name> is the dictionary\n",
    "# key we want to use wrapped in <>.\n",
    "\n",
    "for item in re.finditer(\"(?P<title>[\\w ]*)(?P<edit_link>\\[edit\\])\",wiki): \n",
    "    # (?P=name) A backreference to a named group; it matches whatever text was matched by the earlier group named name.\n",
    "    \n",
    "    # We can get the dictionary returned for the item with .groupdict()\n",
    "    print(item.groupdict()['title'])"
   ]
  },
  {
   "cell_type": "code",
   "execution_count": 48,
   "id": "3cb34534",
   "metadata": {},
   "outputs": [
    {
     "name": "stdout",
     "output_type": "stream",
     "text": [
      "{'title': 'Student medical records', 'edit_link': '[edit]'}\n"
     ]
    }
   ],
   "source": [
    "print(item.groupdict())"
   ]
  },
  {
   "cell_type": "code",
   "execution_count": null,
   "id": "a271f2d2",
   "metadata": {},
   "outputs": [],
   "source": [
    "# Ok, we have seen how we can match individual character patterns with [], how we can group matches together\n",
    "# using (), and how we can use quantifiers such as *, ?, or m{n} to describe patterns. Something I glossed\n",
    "# over in the previous example was the \\w, which standards for any word character. There are a number of\n",
    "# short hands which are used with regexes for different kinds of characters, including:\n",
    "# a . for any single character which is not a newline\n",
    "# a \\d for any digit\n",
    "# and \\s for any whitespace character, like spaces and tabs"
   ]
  },
  {
   "cell_type": "markdown",
   "id": "205b2cd7",
   "metadata": {},
   "source": [
    "### Look-ahead and Look-behind"
   ]
  },
  {
   "cell_type": "code",
   "execution_count": 50,
   "id": "775ef36a",
   "metadata": {},
   "outputs": [
    {
     "name": "stdout",
     "output_type": "stream",
     "text": [
      "<re.Match object; span=(0, 8), match='Overview'>\n",
      "<re.Match object; span=(2715, 2739), match='Access to public records'>\n",
      "<re.Match object; span=(3692, 3715), match='Student medical records'>\n"
     ]
    }
   ],
   "source": [
    "#the pattern being given to the regex engine is for text either before or after the text we are trying to isolate.\n",
    "\n",
    "for item in re.finditer(\"(?P<title>[\\w ]+)(?=\\[edit\\])\",wiki):\n",
    "    # What this regex says is match two groups, the first will be named and called title, will have any amount\n",
    "    # of whitespace or regular word characters, the second will be the characters [edit] but we don't actually\n",
    "    # want this edit put in our output match objects\n",
    "    print(item)\n"
   ]
  }
 ],
 "metadata": {
  "kernelspec": {
   "display_name": "Python 3",
   "language": "python",
   "name": "python3"
  },
  "language_info": {
   "codemirror_mode": {
    "name": "ipython",
    "version": 3
   },
   "file_extension": ".py",
   "mimetype": "text/x-python",
   "name": "python",
   "nbconvert_exporter": "python",
   "pygments_lexer": "ipython3",
   "version": "3.8.8"
  }
 },
 "nbformat": 4,
 "nbformat_minor": 5
}
