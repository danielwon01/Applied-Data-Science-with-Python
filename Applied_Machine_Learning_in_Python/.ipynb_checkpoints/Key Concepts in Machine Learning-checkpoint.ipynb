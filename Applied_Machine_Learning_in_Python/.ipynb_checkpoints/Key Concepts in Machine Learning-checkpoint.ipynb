{
 "cells": [
  {
   "cell_type": "markdown",
   "id": "1f3496cc",
   "metadata": {},
   "source": [
    "#### what is Machine Learning (ML) ?\n",
    "The study of computer programs(algorithms) that can learn by example  \n",
    "ML algorithms can generalize from existing examples of a task"
   ]
  },
  {
   "cell_type": "markdown",
   "id": "db74d2ac",
   "metadata": {},
   "source": [
    "ML models can learn by example   \n",
    "Algorithms learn rules from  labelled examples \n",
    "\n",
    "A set of labelled examples used for learning is called training data  \n",
    "\n",
    "The learned rules should also be able to generalize to correctly reconize or predict new examples not in the traning data"
   ]
  },
  {
   "cell_type": "markdown",
   "id": "d237a12d",
   "metadata": {},
   "source": [
    "ML brings together statistics , cs and more \n",
    "\n",
    "Statistical methods - infer conclusion from data , Estimate reliability of predictions\n",
    "\n",
    "Computer Science - Large-scale computing   , a:gprotjms for capturing, manipulating , indexing , combining , retriving and perfoming predictions on data , Software pipelines that manage the complexity of multiple subtasks\n",
    "\n",
    "Economics, biology ,psychology  \n",
    "How can an individual or system efficiently imporvetheir performance in a given environment ? "
   ]
  },
  {
   "cell_type": "markdown",
   "id": "9c38988b",
   "metadata": {},
   "source": [
    "#### Supervised ML (지도학습)\n",
    "Learn to predict target values from labelled data \n",
    "\n",
    "* Classification(target values are discrete classes)\n",
    "* Regression( target values are continuous valeus)"
   ]
  },
  {
   "cell_type": "markdown",
   "id": "ae08bed0",
   "metadata": {},
   "source": [
    "#### Unsupervised ML\n",
    "Find structure in unlabeled data\n",
    "\n",
    "* Find group of similar instances in the data (clustering)\n",
    "* Finding unusual patterns (outlier detection)"
   ]
  },
  {
   "cell_type": "markdown",
   "id": "990226fa",
   "metadata": {},
   "source": [
    "#### Basic ML workflow\n",
    "Representation\n",
    "* A feature representation\n",
    "* Type of classifier to use \n",
    "\n",
    "Evaluatoin\n",
    "* what criterion distinguishes good vs bad classifiers ?\n",
    "\n",
    "Opimization\n",
    "* How to search for the settings/parameters that give the best classifier for this evaluation criterion"
   ]
  },
  {
   "cell_type": "code",
   "execution_count": null,
   "id": "ef778866",
   "metadata": {},
   "outputs": [],
   "source": [
    "\n"
   ]
  },
  {
   "cell_type": "code",
   "execution_count": null,
   "id": "83f4d17b",
   "metadata": {},
   "outputs": [],
   "source": []
  }
 ],
 "metadata": {
  "kernelspec": {
   "display_name": "Python 3",
   "language": "python",
   "name": "python3"
  },
  "language_info": {
   "codemirror_mode": {
    "name": "ipython",
    "version": 3
   },
   "file_extension": ".py",
   "mimetype": "text/x-python",
   "name": "python",
   "nbconvert_exporter": "python",
   "pygments_lexer": "ipython3",
   "version": "3.8.8"
  }
 },
 "nbformat": 4,
 "nbformat_minor": 5
}
