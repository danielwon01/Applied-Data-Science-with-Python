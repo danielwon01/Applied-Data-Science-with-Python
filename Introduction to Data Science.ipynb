{
 "cells": [
  {
   "cell_type": "markdown",
   "id": "7aa7aa54",
   "metadata": {},
   "source": [
    "### Python Functions"
   ]
  },
  {
   "cell_type": "code",
   "execution_count": 1,
   "id": "924145bf",
   "metadata": {},
   "outputs": [
    {
     "data": {
      "text/plain": [
       "2"
      ]
     },
     "execution_count": 1,
     "metadata": {},
     "output_type": "execute_result"
    }
   ],
   "source": [
    "x= 1\n",
    "y= 1 \n",
    "x+y "
   ]
  },
  {
   "cell_type": "code",
   "execution_count": 2,
   "id": "d7979dbb",
   "metadata": {},
   "outputs": [],
   "source": [
    "def add (x,y ):\n",
    "    return x+y"
   ]
  },
  {
   "cell_type": "code",
   "execution_count": 3,
   "id": "a84556b8",
   "metadata": {},
   "outputs": [
    {
     "data": {
      "text/plain": [
       "8"
      ]
     },
     "execution_count": 3,
     "metadata": {},
     "output_type": "execute_result"
    }
   ],
   "source": [
    "add(3,5)"
   ]
  },
  {
   "cell_type": "code",
   "execution_count": 4,
   "id": "9e45b893",
   "metadata": {},
   "outputs": [
    {
     "name": "stdout",
     "output_type": "stream",
     "text": [
      "10\n",
      "15\n"
     ]
    }
   ],
   "source": [
    "def add_num (x, y ,z = None):  # 디폴트로 정한 파라미터 값은 가장 뒤에 위치하여야한다. 기존에 선언한 값을 무시하고 덮어 쓸 수 있기때문\n",
    "    if z == None :\n",
    "        return x+ y\n",
    "    else :\n",
    "        return x + y + z\n",
    "    \n",
    "print(add_num(5,5))\n",
    "print(add_num(5,5,5))"
   ]
  },
  {
   "cell_type": "code",
   "execution_count": 5,
   "id": "2b0e5ef0",
   "metadata": {},
   "outputs": [
    {
     "name": "stdout",
     "output_type": "stream",
     "text": [
      "f is True\n",
      "10\n"
     ]
    }
   ],
   "source": [
    "def add_num (x, y ,z = None , f = False): \n",
    "    if f :\n",
    "        print(\"f is True\")\n",
    "    if z == None :\n",
    "        return x+ y\n",
    "    else :\n",
    "        return x + y + z\n",
    "    \n",
    "print(add_num(5,5,f = True))"
   ]
  },
  {
   "cell_type": "markdown",
   "id": "0d991c25",
   "metadata": {},
   "source": [
    "### Python Types and Sequences"
   ]
  },
  {
   "cell_type": "code",
   "execution_count": 6,
   "id": "69838f81",
   "metadata": {},
   "outputs": [
    {
     "data": {
      "text/plain": [
       "str"
      ]
     },
     "execution_count": 6,
     "metadata": {},
     "output_type": "execute_result"
    }
   ],
   "source": [
    "type(\"Hi\")"
   ]
  },
  {
   "cell_type": "code",
   "execution_count": 7,
   "id": "9f694a09",
   "metadata": {},
   "outputs": [
    {
     "data": {
      "text/plain": [
       "NoneType"
      ]
     },
     "execution_count": 7,
     "metadata": {},
     "output_type": "execute_result"
    }
   ],
   "source": [
    "type(None)"
   ]
  },
  {
   "cell_type": "code",
   "execution_count": 8,
   "id": "6d4de272",
   "metadata": {},
   "outputs": [
    {
     "data": {
      "text/plain": [
       "function"
      ]
     },
     "execution_count": 8,
     "metadata": {},
     "output_type": "execute_result"
    }
   ],
   "source": [
    "type(add_num)"
   ]
  },
  {
   "cell_type": "code",
   "execution_count": 9,
   "id": "64a71c3f",
   "metadata": {},
   "outputs": [
    {
     "data": {
      "text/plain": [
       "float"
      ]
     },
     "execution_count": 9,
     "metadata": {},
     "output_type": "execute_result"
    }
   ],
   "source": [
    "type(3.5)"
   ]
  },
  {
   "cell_type": "code",
   "execution_count": 10,
   "id": "5ff7a523",
   "metadata": {},
   "outputs": [
    {
     "data": {
      "text/plain": [
       "tuple"
      ]
     },
     "execution_count": 10,
     "metadata": {},
     "output_type": "execute_result"
    }
   ],
   "source": [
    "x = (1,2,3)\n",
    "type(x) # immutable"
   ]
  },
  {
   "cell_type": "code",
   "execution_count": 11,
   "id": "b0c4e943",
   "metadata": {},
   "outputs": [
    {
     "data": {
      "text/plain": [
       "tuple"
      ]
     },
     "execution_count": 11,
     "metadata": {},
     "output_type": "execute_result"
    }
   ],
   "source": [
    "x_l= [1,2,3]\n",
    "type(x) # mutable"
   ]
  },
  {
   "cell_type": "code",
   "execution_count": 12,
   "id": "8345f76f",
   "metadata": {},
   "outputs": [
    {
     "name": "stdout",
     "output_type": "stream",
     "text": [
      "1\n",
      "2\n",
      "3\n"
     ]
    }
   ],
   "source": [
    "for i in x_l :\n",
    "    print(i)"
   ]
  },
  {
   "cell_type": "code",
   "execution_count": 13,
   "id": "17a5c646",
   "metadata": {},
   "outputs": [
    {
     "name": "stdout",
     "output_type": "stream",
     "text": [
      "1\n",
      "2\n",
      "3\n"
     ]
    }
   ],
   "source": [
    "i = 0\n",
    "while i != len(x_l) :\n",
    "    print(x_l[i])\n",
    "    i = i + 1"
   ]
  },
  {
   "cell_type": "code",
   "execution_count": 14,
   "id": "ce667837",
   "metadata": {},
   "outputs": [
    {
     "name": "stdout",
     "output_type": "stream",
     "text": [
      "This\n",
      "Th\n",
      " str\n"
     ]
    }
   ],
   "source": [
    "s  = \"This is str\"\n",
    "print(s[:4])\n",
    "print(s[0:2])\n",
    "print(s[-4:])"
   ]
  },
  {
   "cell_type": "code",
   "execution_count": 15,
   "id": "190381a2",
   "metadata": {},
   "outputs": [
    {
     "name": "stdout",
     "output_type": "stream",
     "text": [
      "A\n",
      "B\n"
     ]
    }
   ],
   "source": [
    "first_n = \"A B @ \".split(' ')[0]\n",
    "last_n = \"A B @ \".split(' ')[1]\n",
    "print(first_n)\n",
    "print(last_n)"
   ]
  },
  {
   "cell_type": "code",
   "execution_count": 16,
   "id": "11e1f424",
   "metadata": {},
   "outputs": [
    {
     "data": {
      "text/plain": [
       "dict"
      ]
     },
     "execution_count": 16,
     "metadata": {},
     "output_type": "execute_result"
    }
   ],
   "source": [
    "x = {\"A\": [1,2,3]} # key, value\n",
    "type(x) "
   ]
  },
  {
   "cell_type": "code",
   "execution_count": 17,
   "id": "7b051214",
   "metadata": {},
   "outputs": [],
   "source": [
    "x = (\"A\", \"B\", \"@ \")\n",
    "fname , lname , email = x # unpack은 3개 까지 "
   ]
  },
  {
   "cell_type": "code",
   "execution_count": 18,
   "id": "739ac70f",
   "metadata": {},
   "outputs": [
    {
     "name": "stdout",
     "output_type": "stream",
     "text": [
      "A\n",
      "B\n",
      "@ \n"
     ]
    }
   ],
   "source": [
    "print(fname)\n",
    "print(lname)\n",
    "print(email)"
   ]
  },
  {
   "cell_type": "markdown",
   "id": "2f51cd4d",
   "metadata": {},
   "source": [
    "### Python More on Strings"
   ]
  },
  {
   "cell_type": "code",
   "execution_count": 20,
   "id": "fd1c4066",
   "metadata": {},
   "outputs": [
    {
     "name": "stdout",
     "output_type": "stream",
     "text": [
      "ME2\n"
     ]
    }
   ],
   "source": [
    "print(\"ME\" + str(2))"
   ]
  },
  {
   "cell_type": "code",
   "execution_count": 19,
   "id": "4692e8aa",
   "metadata": {},
   "outputs": [
    {
     "data": {
      "text/plain": [
       "'me bouht items4 at a price of 3.5'"
      ]
     },
     "execution_count": 19,
     "metadata": {},
     "output_type": "execute_result"
    }
   ],
   "source": [
    "sales = {'price' : 3.5, \n",
    "        'num_items' : 4,\n",
    "        'person' : \"me\"}\n",
    "\n",
    "sales_stament = f'{sales[\"person\"]} bouht items{sales[\"num_items\"]} at a price of {sales[\"price\"]}'\n",
    "sales_stament"
   ]
  },
  {
   "cell_type": "markdown",
   "id": "304a6275",
   "metadata": {},
   "source": [
    "### Python Demonstration: Reading and Writing CSV files"
   ]
  },
  {
   "cell_type": "code",
   "execution_count": 21,
   "id": "8c460ce2",
   "metadata": {},
   "outputs": [],
   "source": [
    "import numpy as np\n",
    "import pandas as pd\n",
    "import os`"
   ]
  },
  {
   "cell_type": "code",
   "execution_count": 33,
   "id": "e7519377",
   "metadata": {},
   "outputs": [],
   "source": [
    "os.chdir('C://Users//my/Desktop//')"
   ]
  },
  {
   "cell_type": "code",
   "execution_count": 35,
   "id": "8b910bfe",
   "metadata": {},
   "outputs": [
    {
     "data": {
      "text/plain": [
       "[{'': '1',\n",
       "  'manufacturer': 'audi',\n",
       "  'model': 'a4',\n",
       "  'displ': '1.8',\n",
       "  'year': '1999',\n",
       "  'cyl': '4',\n",
       "  'trans': 'auto(l5)',\n",
       "  'drv': 'f',\n",
       "  'cty': '18',\n",
       "  'hwy': '29',\n",
       "  'fl': 'p',\n",
       "  'class': 'compact'},\n",
       " {'': '2',\n",
       "  'manufacturer': 'audi',\n",
       "  'model': 'a4',\n",
       "  'displ': '1.8',\n",
       "  'year': '1999',\n",
       "  'cyl': '4',\n",
       "  'trans': 'manual(m5)',\n",
       "  'drv': 'f',\n",
       "  'cty': '21',\n",
       "  'hwy': '29',\n",
       "  'fl': 'p',\n",
       "  'class': 'compact'},\n",
       " {'': '3',\n",
       "  'manufacturer': 'audi',\n",
       "  'model': 'a4',\n",
       "  'displ': '2',\n",
       "  'year': '2008',\n",
       "  'cyl': '4',\n",
       "  'trans': 'manual(m6)',\n",
       "  'drv': 'f',\n",
       "  'cty': '20',\n",
       "  'hwy': '31',\n",
       "  'fl': 'p',\n",
       "  'class': 'compact'}]"
      ]
     },
     "execution_count": 35,
     "metadata": {},
     "output_type": "execute_result"
    }
   ],
   "source": [
    "import csv\n",
    "\n",
    "# 소수점 2자리 \n",
    "%precision 2 \n",
    "\n",
    "\n",
    "with open('mpg.csv') as df :\n",
    "    mpg = list(csv.DictReader(df))\n",
    "    \n",
    "mpg[:3]"
   ]
  },
  {
   "cell_type": "code",
   "execution_count": 37,
   "id": "25088efd",
   "metadata": {},
   "outputs": [
    {
     "data": {
      "text/plain": [
       "234"
      ]
     },
     "execution_count": 37,
     "metadata": {},
     "output_type": "execute_result"
    }
   ],
   "source": [
    "len(mpg)"
   ]
  },
  {
   "cell_type": "code",
   "execution_count": 39,
   "id": "3f813fa8",
   "metadata": {},
   "outputs": [
    {
     "data": {
      "text/plain": [
       "dict_keys(['', 'manufacturer', 'model', 'displ', 'year', 'cyl', 'trans', 'drv', 'cty', 'hwy', 'fl', 'class'])"
      ]
     },
     "execution_count": 39,
     "metadata": {},
     "output_type": "execute_result"
    }
   ],
   "source": [
    "mpg[0].keys()"
   ]
  },
  {
   "cell_type": "code",
   "execution_count": 40,
   "id": "bb1457d4",
   "metadata": {},
   "outputs": [
    {
     "data": {
      "text/plain": [
       "16.86"
      ]
     },
     "execution_count": 40,
     "metadata": {},
     "output_type": "execute_result"
    }
   ],
   "source": [
    "# 평균도시 전 차량의 연비 \n",
    "sum(float(d['cty']) for d in mpg) / len(mpg) # dict안에 있는 값들은 문자열이기 때문에 실수형으로 변환 "
   ]
  },
  {
   "cell_type": "code",
   "execution_count": 41,
   "id": "c77d6e87",
   "metadata": {},
   "outputs": [
    {
     "data": {
      "text/plain": [
       "23.44"
      ]
     },
     "execution_count": 41,
     "metadata": {},
     "output_type": "execute_result"
    }
   ],
   "source": [
    "#모든 차량들의 고속도로 연비\n",
    "sum(float(d['hwy']) for d in mpg) / len(mpg)"
   ]
  },
  {
   "cell_type": "code",
   "execution_count": 42,
   "id": "4e193f7e",
   "metadata": {},
   "outputs": [
    {
     "data": {
      "text/plain": [
       "{'4', '5', '6', '8'}"
      ]
     },
     "execution_count": 42,
     "metadata": {},
     "output_type": "execute_result"
    }
   ],
   "source": [
    "# 자동차 실린더에 따른 자동차 평균 연비 \n",
    "cylinders = set(d['cyl'] for d in mpg)\n",
    "cylinders"
   ]
  },
  {
   "cell_type": "code",
   "execution_count": 46,
   "id": "2290b190",
   "metadata": {},
   "outputs": [
    {
     "data": {
      "text/plain": [
       "[('4', 21.01), ('5', 20.50), ('6', 16.22), ('8', 12.57)]"
      ]
     },
     "execution_count": 46,
     "metadata": {},
     "output_type": "execute_result"
    }
   ],
   "source": [
    "cm =  [] \n",
    "\n",
    "for c in cylinders :\n",
    "    summpg = 0\n",
    "    cyltypecount = 0\n",
    "    for d in mpg :\n",
    "        if d['cyl'] == c :\n",
    "            summpg += float(d['cty'])\n",
    "            cyltypecount += 1\n",
    "    cm.append((c, summpg / cyltypecount))\n",
    "\n",
    "cm.sort(key = lambda x :x [0])\n",
    "cm"
   ]
  },
  {
   "cell_type": "code",
   "execution_count": 48,
   "id": "24d43b33",
   "metadata": {},
   "outputs": [
    {
     "data": {
      "text/plain": [
       "{'2seater', 'compact', 'midsize', 'minivan', 'pickup', 'subcompact', 'suv'}"
      ]
     },
     "execution_count": 48,
     "metadata": {},
     "output_type": "execute_result"
    }
   ],
   "source": [
    "vehicle  = set(d['class'] for d in mpg)\n",
    "vehicle"
   ]
  },
  {
   "cell_type": "code",
   "execution_count": 49,
   "id": "1cb0e70c",
   "metadata": {},
   "outputs": [
    {
     "data": {
      "text/plain": [
       "[('2seater', 24.80),\n",
       " ('compact', 28.30),\n",
       " ('midsize', 27.29),\n",
       " ('minivan', 22.36),\n",
       " ('pickup', 16.88),\n",
       " ('subcompact', 28.14),\n",
       " ('suv', 18.13)]"
      ]
     },
     "execution_count": 49,
     "metadata": {},
     "output_type": "execute_result"
    }
   ],
   "source": [
    "byclss = []\n",
    "\n",
    "for t in vehicle : # iterate ocer all the vehicle classes\n",
    "    summpg  = 0\n",
    "    vclasscount = 0\n",
    "    for d in mpg :\n",
    "        if d[\"class\"] == t :\n",
    "            summpg += float(d['hwy'])\n",
    "            vclasscount += 1 # increment the count \n",
    "    byclss.append((t , summpg / vclasscount)) # append the tuple ('class', 'avg mpg')\n",
    "\n",
    "byclss.sort(key = lambda x :x [0])\n",
    "byclss"
   ]
  },
  {
   "cell_type": "markdown",
   "id": "a7a7024b",
   "metadata": {},
   "source": [
    "### Python Dates and Times"
   ]
  },
  {
   "cell_type": "code",
   "execution_count": 50,
   "id": "dab822d2",
   "metadata": {},
   "outputs": [],
   "source": [
    "import datetime as dt       #python 에서는 time 모듈을 사용해서 epoch 시각을 얻을 수 있다.\n",
    "import time as tm"
   ]
  },
  {
   "cell_type": "code",
   "execution_count": 51,
   "id": "45006f69",
   "metadata": {},
   "outputs": [
    {
     "data": {
      "text/plain": [
       "1638323913.93"
      ]
     },
     "execution_count": 51,
     "metadata": {},
     "output_type": "execute_result"
    }
   ],
   "source": [
    "# from timestamp 함수를 이용해서 날짜 시간 객체에 타임스탬프 생성 \n",
    "tm.time()"
   ]
  },
  {
   "cell_type": "code",
   "execution_count": 52,
   "id": "a4dd319e",
   "metadata": {},
   "outputs": [
    {
     "data": {
      "text/plain": [
       "datetime.datetime(2021, 12, 1, 10, 59, 6, 359755)"
      ]
     },
     "execution_count": 52,
     "metadata": {},
     "output_type": "execute_result"
    }
   ],
   "source": [
    "dtnow = dt.datetime.fromtimestamp(tm.time())\n",
    "dtnow"
   ]
  },
  {
   "cell_type": "code",
   "execution_count": 55,
   "id": "8438e6b2",
   "metadata": {},
   "outputs": [
    {
     "data": {
      "text/plain": [
       "(2021, 12, 1, 10, 59, 6)"
      ]
     },
     "execution_count": 55,
     "metadata": {},
     "output_type": "execute_result"
    }
   ],
   "source": [
    "dtnow.year , dtnow.month, dtnow.day , dtnow.hour , dtnow.minute , dtnow.second"
   ]
  },
  {
   "cell_type": "code",
   "execution_count": 56,
   "id": "0c1e43be",
   "metadata": {},
   "outputs": [
    {
     "data": {
      "text/plain": [
       "datetime.timedelta(days=100)"
      ]
     },
     "execution_count": 56,
     "metadata": {},
     "output_type": "execute_result"
    }
   ],
   "source": [
    "delta = dt.timedelta(days =100)\n",
    "delta"
   ]
  },
  {
   "cell_type": "code",
   "execution_count": 57,
   "id": "b83bdc9a",
   "metadata": {},
   "outputs": [],
   "source": [
    "today = dt.date.today()"
   ]
  },
  {
   "cell_type": "code",
   "execution_count": 58,
   "id": "4df14679",
   "metadata": {},
   "outputs": [
    {
     "data": {
      "text/plain": [
       "datetime.date(2021, 8, 23)"
      ]
     },
     "execution_count": 58,
     "metadata": {},
     "output_type": "execute_result"
    }
   ],
   "source": [
    "today - delta"
   ]
  },
  {
   "cell_type": "markdown",
   "id": "1407b7f2",
   "metadata": {},
   "source": [
    "### Advanced Python Objects, map()"
   ]
  },
  {
   "cell_type": "code",
   "execution_count": 63,
   "id": "3bb1072b",
   "metadata": {},
   "outputs": [],
   "source": [
    "class Person : # class 이름 통상적으로 앞글자 대문자 사용 \n",
    "    department = 'School of information'\n",
    "    \n",
    "    def set_name(self , new_name):  # method 가 호출된 인스턴스에 접근하려면 method 시그니쳐에 self를 포함 시켜야한다.\n",
    "        self.name = new_name  # 객체의 인스턴스 변수들을 참조하고 싶다면 self. 사용 \n",
    "    def set_location(self , new_location):\n",
    "        self.location = new_location"
   ]
  },
  {
   "cell_type": "code",
   "execution_count": 66,
   "id": "78c1d876",
   "metadata": {},
   "outputs": [
    {
     "name": "stdout",
     "output_type": "stream",
     "text": [
      "Won live  in Korea and work in the deparment School of information\n"
     ]
    }
   ],
   "source": [
    "person = Person () # class 사용을 위해 빈 () 생성필요 \n",
    "person.set_name(\"Won\")\n",
    "person.set_location(\"Korea\")\n",
    "print(f'{person.name} live  in {person.location} and work in the deparment {person.department}')"
   ]
  },
  {
   "cell_type": "markdown",
   "id": "ac4e18ec",
   "metadata": {},
   "source": [
    "map 함수는 파이썬 함수형 프로그래밍의 기반요소중 하나, 함수형 프로그래밍은 모든 변수들을 명확히 선언하고 주어진 기능의 주어진 함수의 실행을 통해 변수를 조작가능한 전형적인 프로그래밍 형식 "
   ]
  },
  {
   "cell_type": "code",
   "execution_count": 67,
   "id": "34a5e152",
   "metadata": {},
   "outputs": [
    {
     "data": {
      "text/plain": [
       "<map at 0x1daf1a0acd0>"
      ]
     },
     "execution_count": 67,
     "metadata": {},
     "output_type": "execute_result"
    }
   ],
   "source": [
    "store1 = [10, 11, 12.34 , 5.3]\n",
    "store2 = [9.00, 11.10, 12.56, 2.01]\n",
    "cheapest = map(min , store1 ,store2) # 맵함수는 맵객체로 반환 (불러와야지 값 반환,메모리관리 효율적)\n",
    "cheapest"
   ]
  },
  {
   "cell_type": "code",
   "execution_count": 74,
   "id": "9a085c43",
   "metadata": {},
   "outputs": [
    {
     "data": {
      "text/plain": [
       "['Dr. Brooks', 'Dr. Collins-Thompson', 'Dr. Vydiswaran', 'Dr. Romero']"
      ]
     },
     "execution_count": 74,
     "metadata": {},
     "output_type": "execute_result"
    }
   ],
   "source": [
    "people = ['Dr. Christopher Brooks', 'Dr. Kevyn Collins-Thompson', 'Dr. VG Vinod Vydiswaran', 'Dr. Daniel Romero']\n",
    "\n",
    "def split_title_and_name(person):\n",
    "    title = person.split()[0]\n",
    "    lastname = person.split()[-1]\n",
    "    return '{} {}'.format(title, lastname)\n",
    "\n",
    "list(map(split_title_and_name, people))"
   ]
  }
 ],
 "metadata": {
  "kernelspec": {
   "display_name": "Python 3",
   "language": "python",
   "name": "python3"
  },
  "language_info": {
   "codemirror_mode": {
    "name": "ipython",
    "version": 3
   },
   "file_extension": ".py",
   "mimetype": "text/x-python",
   "name": "python",
   "nbconvert_exporter": "python",
   "pygments_lexer": "ipython3",
   "version": "3.8.8"
  }
 },
 "nbformat": 4,
 "nbformat_minor": 5
}
